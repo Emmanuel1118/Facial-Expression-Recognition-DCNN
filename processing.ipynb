{
 "cells": [
  {
   "cell_type": "code",
   "execution_count": null,
   "metadata": {},
   "outputs": [],
   "source": [
    "import tensorflow as tf\n",
    "import numpy as np\n",
    "import matplotlib.pyplot as plt\n",
    "import os\n",
    "import cv2\n",
    "import pickle\n",
    "from IPython.display import clear_output"
   ]
  },
  {
   "cell_type": "code",
   "execution_count": null,
   "metadata": {},
   "outputs": [],
   "source": [
    "DATADIR = \"C:/Users/Emmanuel/tf/projects/expresions cnn/data/raw\"\n",
    "\n",
    "CATEGORIES = [\"angry\", \"fear\", \"happy\", \"neutral\", \"sad\", \"surprise\"]\n",
    "\n",
    "IMG_SIZE = 50"
   ]
  },
  {
   "cell_type": "code",
   "execution_count": null,
   "metadata": {},
   "outputs": [],
   "source": [
    "def create_data(DIR):\n",
    "    data = []\n",
    "\n",
    "    for categorie in CATEGORIES:\n",
    "        path = os.path.join(DIR, categorie)\n",
    "        class_num = CATEGORIES.index(categorie)\n",
    "        count = 0\n",
    "        for img in os.listdir(path):\n",
    "            clear_output(wait=True)\n",
    "            print((count/len(os.listdir(path)))*100)\n",
    "            count+=1\n",
    "            try:\n",
    "                img_arr = cv2.imread(os.path.join(path,img), cv2.IMREAD_GRAYSCALE)\n",
    "                new_array = cv2.resize(img_arr, (IMG_SIZE, IMG_SIZE))\n",
    "\n",
    "                data.append([new_array, class_num])\n",
    "            except Exception as e:\n",
    "                pass\n",
    "\n",
    "    return data"
   ]
  },
  {
   "cell_type": "code",
   "execution_count": null,
   "metadata": {
    "tags": []
   },
   "outputs": [],
   "source": [
    "test_data = create_data(os.path.join(DATADIR, \"test\"))\n",
    "train_data = create_data(os.path.join(DATADIR, \"train\"))"
   ]
  },
  {
   "cell_type": "code",
   "execution_count": null,
   "metadata": {
    "tags": []
   },
   "outputs": [],
   "source": [
    "print(len(test_data))\n",
    "print(len(train_data))"
   ]
  },
  {
   "cell_type": "code",
   "execution_count": null,
   "metadata": {},
   "outputs": [],
   "source": [
    "import random"
   ]
  },
  {
   "cell_type": "code",
   "execution_count": null,
   "metadata": {},
   "outputs": [],
   "source": [
    "random.shuffle(test_data)\n",
    "random.shuffle(train_data)"
   ]
  },
  {
   "cell_type": "code",
   "execution_count": null,
   "metadata": {},
   "outputs": [],
   "source": [
    "x_test, y_test = [],[]\n",
    "x_train, y_train = [],[]\n",
    "\n",
    "for feature, label in test_data:\n",
    "    x_test.append(feature)\n",
    "    y_test.append(label)\n",
    "\n",
    "x_test = np.array(x_test).reshape(-1, IMG_SIZE, IMG_SIZE, 1)\n",
    "\n",
    "for feature, label in train_data:\n",
    "    x_train.append(feature)\n",
    "    y_train.append(label)\n",
    "\n",
    "x_train = np.array(x_train).reshape(-1, IMG_SIZE, IMG_SIZE, 1)"
   ]
  },
  {
   "cell_type": "code",
   "execution_count": null,
   "metadata": {},
   "outputs": [],
   "source": [
    "pickle_out = open(\"C:/Users/Emmanuel/tf/projects/expresions cnn/data/processed/x_test.pickle\", \"wb\")\n",
    "pickle.dump(x_test, pickle_out)\n",
    "pickle_out.close\n",
    "\n",
    "pickle_out = open(\"C:/Users/Emmanuel/tf/projects/expresions cnn/data/processed/y_test.pickle\", \"wb\")\n",
    "pickle.dump(y_test, pickle_out)\n",
    "pickle_out.close\n",
    "\n",
    "pickle_out = open(\"C:/Users/Emmanuel/tf/projects/expresions cnn/data/processed/x_train.pickle\", \"wb\")\n",
    "pickle.dump(x_train, pickle_out)\n",
    "pickle_out.close\n",
    "\n",
    "pickle_out = open(\"C:/Users/Emmanuel/tf/projects/expresions cnn/data/processed/y_train.pickle\", \"wb\")\n",
    "pickle.dump(y_train, pickle_out)\n",
    "pickle_out.close"
   ]
  },
  {
   "cell_type": "code",
   "execution_count": null,
   "metadata": {},
   "outputs": [],
   "source": []
  }
 ],
 "metadata": {
  "language_info": {
   "codemirror_mode": {
    "name": "ipython",
    "version": 3
   },
   "file_extension": ".py",
   "mimetype": "text/x-python",
   "name": "python",
   "nbconvert_exporter": "python",
   "pygments_lexer": "ipython3",
   "version": 3
  },
  "orig_nbformat": 2,
  "kernelspec": {
   "name": "python_defaultSpec_1594979189076",
   "display_name": "Python 3.7.3 64-bit ('base': conda)"
  }
 },
 "nbformat": 4,
 "nbformat_minor": 2
}