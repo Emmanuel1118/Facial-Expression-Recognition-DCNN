{
 "cells": [
  {
   "cell_type": "code",
   "execution_count": 1,
   "metadata": {},
   "outputs": [],
   "source": [
    "import tensorflow as tf\n",
    "import numpy as np\n",
    "import matplotlib.pyplot as plt\n",
    "import os\n",
    "import cv2\n",
    "import pickle\n",
    "from IPython.display import clear_output\n",
    "from tensorflow.keras.models import Sequential\n",
    "from tensorflow.keras.layers import Dense, Conv2D, Dropout, Activation, Flatten, MaxPooling2D"
   ]
  },
  {
   "cell_type": "code",
   "execution_count": 2,
   "metadata": {},
   "outputs": [],
   "source": [
    "x_test = pickle.load(open(\"C:/Users/Emmanuel/tf/projects/expresions cnn/data/processed/x_test.pickle\", \"rb\"))\n",
    "y_test = pickle.load(open(\"C:/Users/Emmanuel/tf/projects/expresions cnn/data/processed/y_test.pickle\", \"rb\"))\n",
    "\n",
    "x_train = pickle.load(open(\"C:/Users/Emmanuel/tf/projects/expresions cnn/data/processed/x_train.pickle\", \"rb\"))\n",
    "y_train = pickle.load(open(\"C:/Users/Emmanuel/tf/projects/expresions cnn/data/processed/y_train.pickle\", \"rb\"))"
   ]
  },
  {
   "cell_type": "code",
   "execution_count": 3,
   "metadata": {
    "tags": []
   },
   "outputs": [],
   "source": [
    "x_test = x_test/255.0\n",
    "x_train = x_train/255.0"
   ]
  },
  {
   "cell_type": "code",
   "execution_count": 4,
   "metadata": {
    "tags": []
   },
   "outputs": [
    {
     "output_type": "stream",
     "name": "stdout",
     "text": "Model: \"sequential_1\"\n_________________________________________________________________\nLayer (type)                 Output Shape              Param #   \n=================================================================\nconv2d_4 (Conv2D)            (None, 50, 50, 16)        160       \n_________________________________________________________________\nactivation_6 (Activation)    (None, 50, 50, 16)        0         \n_________________________________________________________________\nmax_pooling2d_4 (MaxPooling2 (None, 25, 25, 16)        0         \n_________________________________________________________________\nconv2d_5 (Conv2D)            (None, 25, 25, 32)        4640      \n_________________________________________________________________\nactivation_7 (Activation)    (None, 25, 25, 32)        0         \n_________________________________________________________________\nmax_pooling2d_5 (MaxPooling2 (None, 12, 12, 32)        0         \n_________________________________________________________________\nconv2d_6 (Conv2D)            (None, 12, 12, 64)        18496     \n_________________________________________________________________\nactivation_8 (Activation)    (None, 12, 12, 64)        0         \n_________________________________________________________________\nmax_pooling2d_6 (MaxPooling2 (None, 6, 6, 64)          0         \n_________________________________________________________________\nconv2d_7 (Conv2D)            (None, 6, 6, 64)          102464    \n_________________________________________________________________\nactivation_9 (Activation)    (None, 6, 6, 64)          0         \n_________________________________________________________________\nmax_pooling2d_7 (MaxPooling2 (None, 3, 3, 64)          0         \n_________________________________________________________________\nflatten_1 (Flatten)          (None, 576)               0         \n_________________________________________________________________\ndense_2 (Dense)              (None, 512)               295424    \n_________________________________________________________________\nactivation_10 (Activation)   (None, 512)               0         \n_________________________________________________________________\ndense_3 (Dense)              (None, 6)                 3078      \n_________________________________________________________________\nactivation_11 (Activation)   (None, 6)                 0         \n=================================================================\nTotal params: 424,262\nTrainable params: 424,262\nNon-trainable params: 0\n_________________________________________________________________\n"
    }
   ],
   "source": [
    "model = Sequential()\n",
    "\n",
    "model.add(Conv2D(16, (3,3), input_shape = x_train.shape[1:], padding='same'))\n",
    "model.add(Activation(\"relu\"))\n",
    "model.add(MaxPooling2D(pool_size=(2,2)))\n",
    "\n",
    "model.add(Conv2D(32, (3,3), padding='same'))\n",
    "model.add(Activation(\"relu\"))\n",
    "model.add(MaxPooling2D(pool_size=(2,2)))\n",
    "\n",
    "model.add(Conv2D(64, (3,3), padding='same'))\n",
    "model.add(Activation(\"relu\"))\n",
    "model.add(MaxPooling2D(pool_size=(2,2)))\n",
    "\n",
    "model.add(Conv2D(64, (5,5), padding='same'))\n",
    "model.add(Activation(\"relu\"))\n",
    "model.add(MaxPooling2D(pool_size=(2,2)))\n",
    "\n",
    "model.add(Flatten())\n",
    "model.add(Dense(512))\n",
    "model.add(Activation(\"relu\"))\n",
    "\n",
    "model.add(Dense(6))\n",
    "model.add(Activation(\"softmax\"))\n",
    "\n",
    "model.compile(loss=\"sparse_categorical_crossentropy\",optimizer=\"adam\",metrics = [\"accuracy\"])\n",
    "\n",
    "model.summary()"
   ]
  },
  {
   "cell_type": "code",
   "execution_count": 5,
   "metadata": {
    "tags": []
   },
   "outputs": [
    {
     "output_type": "stream",
     "name": "stdout",
     "text": "Train on 28272 samples, validate on 7067 samples\nEpoch 1/10\n28272/28272 [==============================] - 10s 351us/sample - loss: 1.7228 - acc: 0.3407 - val_loss: 1.5106 - val_acc: 0.4007\nEpoch 2/10\n28272/28272 [==============================] - 9s 306us/sample - loss: 1.4130 - acc: 0.4389 - val_loss: 1.3547 - val_acc: 0.4691\nEpoch 3/10\n28272/28272 [==============================] - 9s 302us/sample - loss: 1.3079 - acc: 0.4832 - val_loss: 1.3358 - val_acc: 0.4771\nEpoch 4/10\n28272/28272 [==============================] - 8s 300us/sample - loss: 1.2251 - acc: 0.5204 - val_loss: 1.2805 - val_acc: 0.5057\nEpoch 5/10\n28272/28272 [==============================] - 8s 298us/sample - loss: 1.1564 - acc: 0.5533 - val_loss: 1.2860 - val_acc: 0.5121\nEpoch 6/10\n28272/28272 [==============================] - 9s 302us/sample - loss: 1.0967 - acc: 0.5763 - val_loss: 1.2663 - val_acc: 0.5216\nEpoch 7/10\n28272/28272 [==============================] - 9s 302us/sample - loss: 1.0377 - acc: 0.5991 - val_loss: 1.2804 - val_acc: 0.5231\nEpoch 8/10\n28272/28272 [==============================] - 8s 300us/sample - loss: 0.9629 - acc: 0.6333 - val_loss: 1.2873 - val_acc: 0.5200\nEpoch 9/10\n28272/28272 [==============================] - 9s 302us/sample - loss: 0.8786 - acc: 0.6672 - val_loss: 1.3590 - val_acc: 0.5396\nEpoch 10/10\n28272/28272 [==============================] - 9s 303us/sample - loss: 0.7977 - acc: 0.6993 - val_loss: 1.4091 - val_acc: 0.5262\n"
    },
    {
     "output_type": "execute_result",
     "data": {
      "text/plain": "<tensorflow.python.keras.callbacks.History at 0x1da48a08940>"
     },
     "metadata": {},
     "execution_count": 5
    }
   ],
   "source": [
    "model.fit(x_train, y_train, epochs=10, validation_data=(x_test, y_test))"
   ]
  },
  {
   "cell_type": "code",
   "execution_count": 6,
   "metadata": {},
   "outputs": [],
   "source": [
    "model.save(\"C:/Users/Emmanuel/tf/projects/expresions cnn/models/expressionsV1.2.model\")"
   ]
  },
  {
   "cell_type": "code",
   "execution_count": null,
   "metadata": {},
   "outputs": [],
   "source": []
  }
 ],
 "metadata": {
  "language_info": {
   "codemirror_mode": {
    "name": "ipython",
    "version": 3
   },
   "file_extension": ".py",
   "mimetype": "text/x-python",
   "name": "python",
   "nbconvert_exporter": "python",
   "pygments_lexer": "ipython3",
   "version": 3
  },
  "orig_nbformat": 2,
  "kernelspec": {
   "name": "python_defaultSpec_1595006870448",
   "display_name": "Python 3.7.3 64-bit ('Emmanuel': virtualenv)"
  }
 },
 "nbformat": 4,
 "nbformat_minor": 2
}