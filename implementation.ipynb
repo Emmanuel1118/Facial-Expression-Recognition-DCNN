{
 "cells": [
  {
   "cell_type": "code",
   "execution_count": null,
   "metadata": {},
   "outputs": [],
   "source": [
    "import tensorflow as tf\n",
    "import numpy as np\n",
    "import matplotlib.pyplot as plt\n",
    "import os\n",
    "import cv2\n",
    "from IPython.display import clear_output"
   ]
  },
  {
   "cell_type": "code",
   "execution_count": null,
   "metadata": {},
   "outputs": [],
   "source": [
    "face_cascade = cv2.CascadeClassifier('haarcascade_frontalface_default.xml') # make sure you have the HaarCascade"
   ]
  },
  {
   "cell_type": "code",
   "execution_count": null,
   "metadata": {},
   "outputs": [],
   "source": [
    "cam = cv2.VideoCapture(0)"
   ]
  },
  {
   "cell_type": "code",
   "execution_count": null,
   "metadata": {
    "tags": []
   },
   "outputs": [],
   "source": [
    "# CATEGORIES = [\"angry\", \"fear\", \"happy\", \"neutral\", \"sad\", \"surprise\"] # comment if you want the YLYL one\n",
    "CATEGORIES = [\"not laughing\", \"not laughing\", \"laughing\", \"not laughing\", \"not laughing\", \"not laughing\"] # comment if you want the normal one\n",
    "\n",
    "model = tf.keras.models.load_model(\"C:/Users/Emmanuel/tf/projects/expresions cnn/models/expressionsV1.1.model\") # you can load whatever model you want\n",
    "\n",
    "IMG_SIZE = 50 # if you load a different model, make sure the dimensions here fit its input layer\n",
    "\n",
    "lfc = 0 # laugh frame count. it will work of you laugh for more than 6 frames (for YLYL)\n",
    "\n",
    "while True:\n",
    "    ret, img = cam.read()\n",
    "    height, width = img.shape[:2]\n",
    "    font = cv2.FONT_HERSHEY_SIMPLEX\n",
    "    gray = cv2.cvtColor(img, cv2.COLOR_BGR2GRAY)\n",
    "    \n",
    "    faces = face_cascade.detectMultiScale(gray, 1.3, 5)\n",
    "    \n",
    "    for (x,y,w,h) in faces:\n",
    "        color = (0,225,0)\n",
    "        if lfc > 0:\n",
    "            color = (0, 0, 255)\n",
    "            \n",
    "            if lfc > 6:\n",
    "                #os.system(\"shutdown /s /t 0\") # do the funny thing, comment if you dont want the YLYL thing\n",
    "                print(\"L\")\n",
    "        \n",
    "        cv2.rectangle(img, (x,y), (x+w,y+h), color, 2)\n",
    "        roi_gray = gray[y:y+h, x:x+w]\n",
    "\n",
    "        roi_gray = cv2.resize(roi_gray, (IMG_SIZE, IMG_SIZE))\n",
    "        \n",
    "        sample = np.array(roi_gray).reshape(-1, IMG_SIZE, IMG_SIZE, 1)\n",
    "        sample = sample/255.0\n",
    "\n",
    "        i = model.predict([sample])\n",
    "        cv2.putText(img, str(CATEGORIES[np.argmax(i)]) ,(x,y+h+20), font, 1, color, 2, cv2.LINE_AA)\n",
    "\n",
    "        if str(CATEGORIES[np.argmax(i)]) == \"laughing\": # works only for the YLYL one\n",
    "            lfc += 1\n",
    "\n",
    "        else: lfc = 0\n",
    "\n",
    "    cv2.imshow('img', img)\n",
    "    \n",
    "    k = cv2.waitKey(30) & 0xff\n",
    "    if k == 27:\n",
    "        break\n",
    "        \n",
    "\n",
    "cv2.destroyAllWindows()"
   ]
  },
  {
   "cell_type": "code",
   "execution_count": null,
   "metadata": {},
   "outputs": [],
   "source": [
    "cam.release()"
   ]
  },
  {
   "cell_type": "code",
   "execution_count": null,
   "metadata": {},
   "outputs": [],
   "source": []
  }
 ],
 "metadata": {
  "language_info": {
   "codemirror_mode": {
    "name": "ipython",
    "version": 3
   },
   "file_extension": ".py",
   "mimetype": "text/x-python",
   "name": "python",
   "nbconvert_exporter": "python",
   "pygments_lexer": "ipython3",
   "version": 3
  },
  "orig_nbformat": 2,
  "kernelspec": {
   "name": "python_defaultSpec_1598537801397",
   "display_name": "Python 3.7.3 64-bit ('Emmanuel': virtualenv)"
  }
 },
 "nbformat": 4,
 "nbformat_minor": 2
}